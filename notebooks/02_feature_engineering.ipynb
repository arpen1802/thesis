{
 "cells": [
  {
   "cell_type": "code",
   "execution_count": null,
   "metadata": {},
   "outputs": [],
   "source": [
    "import pandas as pd\n",
    "import numpy as np\n",
    "\n",
    "# Load the dataset (Parquet format)\n",
    "df = pd.read_parquet('path_to_your_data.parquet')\n",
    "\n",
    "# Feature Engineering\n",
    "df['is_weekend'] = df['weekday'].apply(lambda x: 1 if x in [5, 6] else 0)  # Weekend feature\n",
    "\n",
    "# Example of user-based feature engineering\n",
    "df['trip_count_per_weekday'] = df.groupby('VIN')['weekday'].transform('count')\n",
    "df['avg_distance_per_dayofweek'] = df.groupby(['VIN', 'weekday'])['distance'].transform('mean')\n",
    "\n",
    "# Historical average features\n",
    "df['mean_consumption'] = df.groupby('VIN')['consumption'].transform('mean')\n",
    "df['mean_duration'] = df.groupby('VIN')['duration'].transform('mean')\n",
    "df['mean_dep_time'] = df.groupby(['VIN', 'weekday'])['departure_time'].transform('mean')\n",
    "\n",
    "# Save processed data as Parquet\n",
    "df.to_parquet('data/processed/processed_data.parquet', index=False)\n"
   ]
  }
 ],
 "metadata": {
  "language_info": {
   "name": "python"
  }
 },
 "nbformat": 4,
 "nbformat_minor": 2
}
