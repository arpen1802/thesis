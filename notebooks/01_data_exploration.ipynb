{
 "cells": [
  {
   "cell_type": "code",
   "execution_count": null,
   "metadata": {},
   "outputs": [],
   "source": [
    "import pandas as pd\n",
    "import matplotlib.pyplot as plt\n",
    "import seaborn as sns\n",
    "\n",
    "# Load the dataset (Parquet format)\n",
    "df = pd.read_parquet('path_to_your_data.parquet')\n",
    "\n",
    "# Display first few rows\n",
    "print(df.head())\n",
    "\n",
    "# Basic statistics\n",
    "print(df.describe())\n",
    "\n",
    "# Missing values\n",
    "print(df.isnull().sum())\n",
    "\n",
    "# Visualize distribution of the target variables (e.g., Energy Need, Departure Time)\n",
    "sns.histplot(df['energy_need'], kde=True)\n",
    "plt.title(\"Energy Need Distribution\")\n",
    "plt.show()\n",
    "\n",
    "sns.histplot(df['departure_time'], kde=True)\n",
    "plt.title(\"Departure Time Distribution\")\n",
    "plt.show()\n",
    "\n",
    "# Visualizing correlation matrix\n",
    "plt.figure(figsize=(12, 8))\n",
    "sns.heatmap(df.corr(), annot=True, cmap='coolwarm')\n",
    "plt.title('Correlation Matrix')\n",
    "plt.show()\n"
   ]
  }
 ],
 "metadata": {
  "language_info": {
   "name": "python"
  }
 },
 "nbformat": 4,
 "nbformat_minor": 2
}
