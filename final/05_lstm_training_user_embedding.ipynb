{
 "cells": [
  {
   "cell_type": "code",
   "execution_count": 1,
   "id": "158f07c0-f3ff-4adf-8cb6-5baa6709504d",
   "metadata": {
    "tags": []
   },
   "outputs": [],
   "source": [
    "%%capture setup_output\n",
    "%run 'setup.ipynb'\n",
    "\n",
    "# run the following command to get the output of the setup commands\n",
    "# setup_output.show()"
   ]
  },
  {
   "cell_type": "code",
   "execution_count": 117,
   "id": "ef3b5f99-cea1-4608-940f-03a83a867544",
   "metadata": {
    "tags": []
   },
   "outputs": [],
   "source": [
    "import pandas as pd\n",
    "import numpy as np\n",
    "from sklearn.preprocessing import MinMaxScaler, LabelEncoder, OneHotEncoder\n",
    "from sklearn.preprocessing import StandardScaler\n",
    "from sklearn.model_selection import train_test_split\n",
    "\n",
    "from concurrent.futures import ThreadPoolExecutor\n",
    "from concurrent.futures import ProcessPoolExecutor\n",
    "\n",
    "import torch\n",
    "from torch.utils.data import DataLoader, TensorDataset\n",
    "import pytorch_lightning as pl\n",
    "from torch import nn\n",
    "from pytorch_lightning import Trainer\n",
    "from pytorch_lightning.callbacks import EarlyStopping\n",
    "from pytorch_lightning.loggers import CSVLogger\n",
    "from pytorch_lightning.callbacks import ModelCheckpoint\n",
    "\n",
    "from sklearn.metrics import mean_absolute_error, mean_squared_error, median_absolute_error\n",
    "import matplotlib.pyplot as plt\n",
    "from src.UserEmbeddingLstm import UserEmbeddingLstm\n",
    "from src.UserEmbeddingDataset import UserEmbeddingDataset"
   ]
  },
  {
   "cell_type": "code",
   "execution_count": 219,
   "id": "f0216ae9-c4e6-47e4-94a8-2f221ec0c920",
   "metadata": {
    "tags": []
   },
   "outputs": [],
   "source": [
    "# Load and filter the dataset\n",
    "sequence_length = 5\n",
    "batch_size = 512\n",
    "\n",
    "# Define dataset file path\n",
    "file_path = '../results/removed_outliers.parquet'\n",
    "df = pd.read_parquet(file_path)\n",
    "\n",
    "# Define features and target variables\n",
    "# removed 'c_chargingmethod','c_chargingtype' 'mean_dep_time','latitude', 'longitude',  'start_da'\n",
    "relevant_features = ['c_vin', 'c_realstartsoc', 'weekday_numerical', 'is_weekend',\n",
    "                     'mean_consumption', 'mean_duration', 'latitude', 'longitude',\n",
    "                     'start_hour', 'start_day', 'is_home_spot', 'is_location_one',\n",
    "                     'start_datetime', 'delta_soc_real', 'plugin_duration_hr']\n",
    "\n",
    "target = 'delta_soc_real' #, 'delta_soc_real', plugin_duration_hr\n",
    "\n",
    "df = df[relevant_features]"
   ]
  },
  {
   "cell_type": "code",
   "execution_count": 220,
   "id": "dcb19e57-c04c-451d-876d-ace8991a419e",
   "metadata": {
    "tags": []
   },
   "outputs": [
    {
     "name": "stdout",
     "output_type": "stream",
     "text": [
      "8637446\n",
      "8631511\n"
     ]
    }
   ],
   "source": [
    "print(len(df))\n",
    "df = df.dropna()\n",
    "print(len(df))"
   ]
  },
  {
   "cell_type": "code",
   "execution_count": 221,
   "id": "90b05182-1200-4c3b-b1a8-8753aab5bb46",
   "metadata": {
    "tags": []
   },
   "outputs": [],
   "source": [
    "num_users = df['c_vin'].nunique()"
   ]
  },
  {
   "cell_type": "code",
   "execution_count": 222,
   "id": "8618f777-ab1e-4688-898d-47c9c432a8a4",
   "metadata": {
    "tags": []
   },
   "outputs": [],
   "source": [
    "# Sort the DataFrame by 'c_vin' and 'start_datetime'\n",
    "df = df.sort_values(by=['c_vin', 'start_datetime'])\n",
    "\n",
    "# Add new features for previous session plugin_duration_hr and delta_soc_real\n",
    "df['prev_plugin_duration_hr'] = df.groupby('c_vin')['plugin_duration_hr'].shift(1)\n",
    "df['prev_delta_soc_real'] = df.groupby('c_vin')['delta_soc_real'].shift(1)\n",
    "\n",
    "# Fill missing prev values with current\n",
    "df['prev_plugin_duration_hr'] = df['prev_plugin_duration_hr'].fillna(df['plugin_duration_hr'])\n",
    "df['prev_delta_soc_real'] = df['prev_delta_soc_real'].fillna(df['delta_soc_real'])"
   ]
  },
  {
   "cell_type": "code",
   "execution_count": 223,
   "id": "28eb2d55-9746-46c9-9d13-f574014bc240",
   "metadata": {
    "tags": []
   },
   "outputs": [],
   "source": [
    "label_encoder = LabelEncoder()\n",
    "df['c_vin_encoded'] = label_encoder.fit_transform(df['c_vin'])\n",
    "# df = df.drop(columns=['c_vin'])\n",
    "\n",
    "features = ['c_realstartsoc', 'weekday_numerical', 'is_weekend',\n",
    "            'mean_consumption', 'mean_duration', 'latitude', 'longitude',\n",
    "            'start_hour', 'start_day', 'is_home_spot', 'is_location_one',\n",
    "            'prev_plugin_duration_hr', 'prev_delta_soc_real']\n"
   ]
  },
  {
   "cell_type": "code",
   "execution_count": 224,
   "id": "819a81f0-6527-424e-95cb-8f6887af18ef",
   "metadata": {
    "tags": []
   },
   "outputs": [],
   "source": [
    "# Scaling numeric features\n",
    "feature_scaler = StandardScaler()\n",
    "target_scaler = StandardScaler()\n",
    "\n",
    "df[features] = feature_scaler.fit_transform(df[features])\n",
    "df[[target]] = target_scaler.fit_transform(df[[target]])"
   ]
  },
  {
   "cell_type": "code",
   "execution_count": 225,
   "id": "ced5aace-8fa6-4135-878a-c01d6a7dd09e",
   "metadata": {
    "tags": []
   },
   "outputs": [],
   "source": [
    "def process_group(group):\n",
    "    try:\n",
    "        group = group.sort_values('start_datetime')\n",
    "        sequences = []\n",
    "        targets = []\n",
    "        vins = []\n",
    "        for i in range(len(group) - sequence_length):\n",
    "            sequence = group[features].iloc[i:i + sequence_length].values\n",
    "            target_value = group[target].iloc[i + sequence_length]\n",
    "            vin_value = group['c_vin_encoded'].iloc[0]\n",
    "            sequences.append(sequence)\n",
    "            targets.append(target_value)\n",
    "            vins.append(vin_value)\n",
    "    except Exception as e:\n",
    "        print(f\"Error processing group {group['c_vin'].iloc[0]}: {e}\")\n",
    "    return sequences, targets, vins"
   ]
  },
  {
   "cell_type": "code",
   "execution_count": null,
   "id": "f19a8ac8-cc5f-4ffb-9bac-ba6fc1470af8",
   "metadata": {
    "tags": []
   },
   "outputs": [],
   "source": [
    "# Creates multiple processes to create user sequences faster\n",
    "with ProcessPoolExecutor(max_workers=31) as executor:\n",
    "    results = list(executor.map(process_group, [group for _, group in df.groupby('c_vin')]))"
   ]
  },
  {
   "cell_type": "code",
   "execution_count": null,
   "id": "7b272357-addf-45ac-bfb3-fba7fb978738",
   "metadata": {
    "tags": []
   },
   "outputs": [],
   "source": [
    "merged_X = []\n",
    "merged_y = []\n",
    "merged_vin = []\n",
    "\n",
    "for X, y, vin in results:\n",
    "    merged_X.extend(X)\n",
    "    merged_y.extend(y)\n",
    "    merged_vin.extend(vin)\n",
    "\n",
    "merged_X = np.array(merged_X)\n",
    "merged_y = np.array(merged_y)\n",
    "merged_vin = np.array(merged_vin)"
   ]
  },
  {
   "cell_type": "code",
   "execution_count": null,
   "id": "8ebc00ee-dd8d-44ae-ab5e-a795f4120146",
   "metadata": {
    "tags": []
   },
   "outputs": [],
   "source": [
    "# The user sequences can be either shuffled or split\n",
    "# sequencially to avoid having parts of the same sequence in the train and test sets\n",
    "\n",
    "# Option 1 of splitting the dataset\n",
    "train_size = int(0.8 * len(merged_X))\n",
    "val_size = int(0.1 * len(merged_X))\n",
    "X_train, X_val, X_test = merged_X[:train_size], merged_X[train_size:train_size + val_size], merged_X[train_size + val_size:]\n",
    "y_train, y_val, y_test = merged_y[:train_size], merged_y[train_size:train_size + val_size], merged_y[train_size + val_size:]\n",
    "vin_train, vin_val, vin_test = merged_vin[:train_size], merged_vin[train_size:train_size + val_size], merged_vin[train_size + val_size:]\n",
    "\n",
    "# Option 2 of splitting the dataset\n",
    "\n",
    "# X_train, X_temp, y_train, y_temp, vin_train, vin_temp = train_test_split(\n",
    "#     merged_X, merged_y, merged_vin, test_size=0.2, random_state=42)\n",
    "\n",
    "# X_val, X_test, y_val, y_test, vin_val, vin_test = train_test_split(\n",
    "#     X_temp, y_temp, vin_temp, test_size=0.5, random_state=42)\n",
    "\n",
    "\n",
    "print(\"Train Set:\", len(X_train), \"samples\")\n",
    "print(\"Validation Set:\", len(X_val), \"samples\")\n",
    "print(\"Test Set:\", len(X_test), \"samples\")"
   ]
  },
  {
   "cell_type": "code",
   "execution_count": null,
   "id": "6fd95cd4-4a42-4758-991c-09903c60ba99",
   "metadata": {
    "tags": []
   },
   "outputs": [],
   "source": [
    "device = torch.device('cuda' if torch.cuda.is_available() else 'cpu')\n",
    "print('Device: ', device)"
   ]
  },
  {
   "cell_type": "code",
   "execution_count": null,
   "id": "9808a1ab-5331-4d24-94ab-0edf223dd7b5",
   "metadata": {
    "tags": []
   },
   "outputs": [],
   "source": [
    "# Make sure the dimensions are the same for different sets\n",
    "print(f\"X_train: {len(X_train)}, X_val: {len(X_val)}, X_test: {len(X_test)}\")\n",
    "print(f\"y_train: {len(y_train)}, y_val: {len(y_val)}, y_test: {len(y_test)}\")\n",
    "print(f\"vin_train: {len(vin_train)}, vin_val: {len(vin_val)}, vin_test: {len(vin_test)}\")"
   ]
  },
  {
   "cell_type": "code",
   "execution_count": null,
   "id": "3f06f233-4b0e-4bc2-a8d4-02feb264c628",
   "metadata": {
    "tags": []
   },
   "outputs": [],
   "source": [
    "unique_values = set(df['c_vin_encoded'])\n",
    "num_users = len(unique_values)\n",
    "print(f\"The number of unique values in the list is: {num_users}\")"
   ]
  },
  {
   "cell_type": "code",
   "execution_count": null,
   "id": "e0bacf06-1ce5-4d2c-a287-5595c5669589",
   "metadata": {
    "tags": []
   },
   "outputs": [],
   "source": [
    "X_train = np.array(X_train)\n",
    "X_val = np.array(X_val)\n",
    "X_test = np.array(X_test)\n",
    "y_train = np.array(y_train)\n",
    "y_val = np.array(y_val)\n",
    "y_test = np.array(y_test)\n",
    "vins_train = np.array(vin_train)\n",
    "vins_val = np.array(vin_val)\n",
    "vins_test = np.array(vin_test)"
   ]
  },
  {
   "cell_type": "code",
   "execution_count": null,
   "id": "ea434aef-255e-480b-8155-3e9925a68f40",
   "metadata": {
    "tags": []
   },
   "outputs": [],
   "source": [
    "# Convert the data to PyTorch tensors\n",
    "X_train_tensor = torch.tensor(X_train, dtype=torch.float32).to(device)\n",
    "y_train_tensor = torch.tensor(y_train, dtype=torch.float32).to(device).unsqueeze(1)\n",
    "vin_train_tensor = torch.tensor(vin_train, dtype=torch.long).to(device)\n",
    "\n",
    "X_test_tensor = torch.tensor(X_test, dtype=torch.float32).to(device)\n",
    "y_test_tensor = torch.tensor(y_test, dtype=torch.float32).to(device).unsqueeze(1)\n",
    "vin_test_tensor = torch.tensor(vin_test, dtype=torch.long).to(device)\n",
    "\n",
    "X_val_tensor = torch.tensor(X_val, dtype=torch.float32).to(device)\n",
    "y_val_tensor = torch.tensor(y_val, dtype=torch.float32).to(device).unsqueeze(1)\n",
    "vin_val_tensor = torch.tensor(vin_val, dtype=torch.long).to(device)"
   ]
  },
  {
   "cell_type": "code",
   "execution_count": null,
   "id": "26c3e04b-cfa8-4d61-b63a-3537e8393c73",
   "metadata": {
    "tags": []
   },
   "outputs": [],
   "source": [
    "# Create datasets and dataloaders\n",
    "train_dataset = UserEmbeddingDataset(X=X_train_tensor, user_ids=vin_train_tensor, y=y_train_tensor)\n",
    "val_dataset = UserEmbeddingDataset(X=X_val_tensor, user_ids=vin_val_tensor, y=y_val_tensor)\n",
    "test_dataset = UserEmbeddingDataset(X=X_test_tensor, user_ids=vin_test_tensor, y=y_test_tensor)\n",
    "\n",
    "\n",
    "train_loader = DataLoader(train_dataset, batch_size=batch_size, shuffle=True)\n",
    "val_loader = DataLoader(val_dataset, batch_size=batch_size)\n",
    "test_loader = DataLoader(test_dataset, batch_size=batch_size)"
   ]
  },
  {
   "cell_type": "code",
   "execution_count": null,
   "id": "0951f7e9-cfbe-4acb-9150-13626f3943bc",
   "metadata": {
    "tags": []
   },
   "outputs": [],
   "source": [
    "# Set up logger\n",
    "csv_logger = CSVLogger(\"logs\", name=\"lstm-soc\")\n",
    "\n",
    "checkpoint_callback = ModelCheckpoint(\n",
    "    dirpath='checkpoints-lstm',\n",
    "    filename='best_checkpoint_soc',\n",
    "    save_top_k=1,\n",
    "    verbose=True,\n",
    "    monitor='val_loss',\n",
    "    mode='min'\n",
    ")\n",
    "early_stopping = EarlyStopping(monitor=\"val_loss\", patience=5, mode=\"min\")"
   ]
  },
  {
   "cell_type": "code",
   "execution_count": null,
   "id": "02fe3e21-a058-4512-b079-0b1edfd10801",
   "metadata": {
    "tags": []
   },
   "outputs": [],
   "source": [
    "embedding_dim = 16"
   ]
  },
  {
   "cell_type": "code",
   "execution_count": null,
   "id": "2ecf3c6a-59a2-4498-a166-31ad8577acde",
   "metadata": {
    "tags": []
   },
   "outputs": [],
   "source": [
    "model = UserEmbeddingLstm(sequence_length=sequence_length,\n",
    "                          num_users=num_users,\n",
    "                          embedding_dim=embedding_dim,\n",
    "                          num_features=len(features),\n",
    "                          dropout_rate=0.3)\n",
    "\n",
    "# Or load from checkpoint\n",
    "# checkpoint_path = 'checkpoints/best_checkpoint_lstm_soc.ckpt'\n",
    "# model = UserEmbeddingLstm.load_from_checkpoint(checkpoint_path,\n",
    "#                                                sequence_length=sequence_length,\n",
    "#                                                num_users=num_users,\n",
    "#                                                embedding_dim=embedding_dim,\n",
    "#                                                num_features=len(features))"
   ]
  },
  {
   "cell_type": "code",
   "execution_count": null,
   "id": "757f00d5-442f-4fec-9094-f927214157d9",
   "metadata": {},
   "outputs": [],
   "source": [
    "early_stopping = EarlyStopping(monitor=\"val_loss\", patience=5, mode=\"min\")\n",
    "\n",
    "trainer = pl.Trainer(max_epochs=100,\n",
    "                     logger=csv_logger,\n",
    "                     callbacks=[checkpoint_callback, early_stopping],\n",
    "                     gradient_clip_val=1.0)\n",
    "trainer.fit(model, train_loader, val_loader)"
   ]
  },
  {
   "cell_type": "code",
   "execution_count": 28,
   "id": "493a5c87-32c9-46f8-b25d-ca722d8180eb",
   "metadata": {
    "tags": []
   },
   "outputs": [
    {
     "name": "stderr",
     "output_type": "stream",
     "text": [
      "/home/ec2-user/anaconda3/envs/pytorch_p310/lib/python3.10/site-packages/pytorch_lightning/trainer/connectors/data_connector.py:424: The 'test_dataloader' does not have many workers which may be a bottleneck. Consider increasing the value of the `num_workers` argument` to `num_workers=31` in the `DataLoader` to improve performance.\n"
     ]
    },
    {
     "data": {
      "application/vnd.jupyter.widget-view+json": {
       "model_id": "87c1390c63ae42b39aa7b7003450eaa5",
       "version_major": 2,
       "version_minor": 0
      },
      "text/plain": [
       "Testing: |          | 0/? [00:00<?, ?it/s]"
      ]
     },
     "metadata": {},
     "output_type": "display_data"
    },
    {
     "data": {
      "text/html": [
       "<pre style=\"white-space:pre;overflow-x:auto;line-height:normal;font-family:Menlo,'DejaVu Sans Mono',consolas,'Courier New',monospace\">┏━━━━━━━━━━━━━━━━━━━━━━━━━━━┳━━━━━━━━━━━━━━━━━━━━━━━━━━━┓\n",
       "┃<span style=\"font-weight: bold\">        Test metric        </span>┃<span style=\"font-weight: bold\">       DataLoader 0        </span>┃\n",
       "┡━━━━━━━━━━━━━━━━━━━━━━━━━━━╇━━━━━━━━━━━━━━━━━━━━━━━━━━━┩\n",
       "│<span style=\"color: #008080; text-decoration-color: #008080\">         test_loss         </span>│<span style=\"color: #800080; text-decoration-color: #800080\">    0.7823531031608582     </span>│\n",
       "└───────────────────────────┴───────────────────────────┘\n",
       "</pre>\n"
      ],
      "text/plain": [
       "┏━━━━━━━━━━━━━━━━━━━━━━━━━━━┳━━━━━━━━━━━━━━━━━━━━━━━━━━━┓\n",
       "┃\u001b[1m \u001b[0m\u001b[1m       Test metric       \u001b[0m\u001b[1m \u001b[0m┃\u001b[1m \u001b[0m\u001b[1m      DataLoader 0       \u001b[0m\u001b[1m \u001b[0m┃\n",
       "┡━━━━━━━━━━━━━━━━━━━━━━━━━━━╇━━━━━━━━━━━━━━━━━━━━━━━━━━━┩\n",
       "│\u001b[36m \u001b[0m\u001b[36m        test_loss        \u001b[0m\u001b[36m \u001b[0m│\u001b[35m \u001b[0m\u001b[35m   0.7823531031608582    \u001b[0m\u001b[35m \u001b[0m│\n",
       "└───────────────────────────┴───────────────────────────┘\n"
      ]
     },
     "metadata": {},
     "output_type": "display_data"
    },
    {
     "data": {
      "text/plain": [
       "[{'test_loss': 0.7823531031608582}]"
      ]
     },
     "execution_count": 28,
     "metadata": {},
     "output_type": "execute_result"
    }
   ],
   "source": [
    "trainer.test(model, test_loader)"
   ]
  },
  {
   "cell_type": "code",
   "execution_count": 56,
   "id": "7f7064a4-e144-4b0e-b228-14c5549df87f",
   "metadata": {
    "tags": []
   },
   "outputs": [
    {
     "name": "stdout",
     "output_type": "stream",
     "text": [
      "prediction:  [[-0.24992622]\n",
      " [-0.16984463]\n",
      " [ 0.22386815]\n",
      " ...\n",
      " [-0.6504032 ]\n",
      " [-0.62801296]\n",
      " [-0.45988226]]\n",
      "test data:  tensor([-1.1322, -0.3201, -0.8164,  ...,  0.0859, -0.6359, -1.4480])\n"
     ]
    }
   ],
   "source": [
    "model.eval()\n",
    "# model.to(device)\n",
    "with torch.no_grad():\n",
    "    y_pred = model(torch.tensor(X_test, dtype=torch.float32)).detach().numpy()"
   ]
  },
  {
   "cell_type": "code",
   "execution_count": 82,
   "id": "dee4533c-53a8-45c9-8e68-7eba0e91a764",
   "metadata": {
    "tags": []
   },
   "outputs": [],
   "source": [
    "y_pred_original = target_scaler.inverse_transform(y_pred)\n",
    "y_test_original = target_scaler.inverse_transform(y_test)"
   ]
  },
  {
   "cell_type": "code",
   "execution_count": 92,
   "id": "280a7413-fcea-47a7-91b1-76821b673cc7",
   "metadata": {
    "tags": []
   },
   "outputs": [
    {
     "name": "stdout",
     "output_type": "stream",
     "text": [
      "Mean Absolute Error(MAE) original: 15.872245022813656\n",
      "Median Absolute Error(MAE) original: 13.738107681274414\n",
      "Root Mean Squared Error(MAE) original: 19.606493225309485\n"
     ]
    },
    {
     "name": "stderr",
     "output_type": "stream",
     "text": [
      "/home/ec2-user/anaconda3/envs/pytorch_p310/lib/python3.10/site-packages/sklearn/metrics/_regression.py:492: FutureWarning: 'squared' is deprecated in version 1.4 and will be removed in 1.6. To calculate the root mean squared error, use the function'root_mean_squared_error'.\n",
      "  warnings.warn(\n"
     ]
    }
   ],
   "source": [
    "mae_original = mean_absolute_error(y_pred_original, y_test_original)\n",
    "medae_original = median_absolute_error(y_pred_original, y_test_original)\n",
    "rmse_original = mean_squared_error(y_pred_original, y_test_original, squared=False)\n",
    "print(f\"Mean Absolute Error(MAE) original: {mae_original}\")\n",
    "print(f\"Median Absolute Error(MAE) original: {medae_original}\")\n",
    "print(f\"Root Mean Squared Error(MAE) original: {rmse_original}\")"
   ]
  }
 ],
 "metadata": {
  "kernelspec": {
   "display_name": "conda_pytorch_p310",
   "language": "python",
   "name": "conda_pytorch_p310"
  },
  "language_info": {
   "codemirror_mode": {
    "name": "ipython",
    "version": 3
   },
   "file_extension": ".py",
   "mimetype": "text/x-python",
   "name": "python",
   "nbconvert_exporter": "python",
   "pygments_lexer": "ipython3",
   "version": "3.10.14"
  }
 },
 "nbformat": 4,
 "nbformat_minor": 5
}
