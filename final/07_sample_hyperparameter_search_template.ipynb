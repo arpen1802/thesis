{
 "cells": [
  {
   "cell_type": "code",
   "execution_count": 1,
   "id": "cf9a0f30-e006-43f1-8dff-9ac621fe25af",
   "metadata": {
    "tags": []
   },
   "outputs": [],
   "source": [
    "import optuna\n",
    "from functools import partial\n",
    "from src.objective import objective\n"
   ]
  },
  {
   "cell_type": "code",
   "execution_count": null,
   "id": "6631efd5-6c90-450f-929a-29ac7ed73eb6",
   "metadata": {},
   "outputs": [],
   "source": [
    "# Create the model for example\n",
    "# model = UserEmbeddingModel(input_dim=input_dim,\n",
    "#                            embedding_dim=embedding_dim,\n",
    "#                            num_users=num_users,\n",
    "#                            dropout_prob=0,\n",
    "#                            learning_rate=lr,\n",
    "#                            lr_gamma=lr_gamma,\n",
    "#                            l2_reg=l2_reg)\n",
    "model = ..."
   ]
  },
  {
   "cell_type": "code",
   "execution_count": null,
   "id": "9fd3a9d5-28d6-4414-96b3-c9bce652ad6c",
   "metadata": {},
   "outputs": [],
   "source": [
    "#Load the dataset\n",
    "train_dataset = ... "
   ]
  },
  {
   "cell_type": "code",
   "execution_count": null,
   "id": "289780f4-2534-42ea-8c60-bd7eef09bfb5",
   "metadata": {},
   "outputs": [],
   "source": [
    "objective_with_data = partial(objective, train_dataset=train_dataset, model=model)\n",
    "study = optuna.create_study(direction=\"minimize\")\n",
    "study.optimize(objective_with_data, n_trials=20)\n",
    "print(f\"Best trial: {study.best_trial.value}\")\n",
    "print(f\"Best hyperparameters: {study.best_trial.params}\")"
   ]
  }
 ],
 "metadata": {
  "kernelspec": {
   "display_name": "conda_pytorch_p310",
   "language": "python",
   "name": "conda_pytorch_p310"
  },
  "language_info": {
   "codemirror_mode": {
    "name": "ipython",
    "version": 3
   },
   "file_extension": ".py",
   "mimetype": "text/x-python",
   "name": "python",
   "nbconvert_exporter": "python",
   "pygments_lexer": "ipython3",
   "version": "3.10.14"
  }
 },
 "nbformat": 4,
 "nbformat_minor": 5
}
