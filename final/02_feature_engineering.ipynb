{
 "cells": [
  {
   "cell_type": "code",
   "execution_count": 2,
   "metadata": {
    "tags": []
   },
   "outputs": [],
   "source": [
    "import pandas as pd\n",
    "from src.data_processing import detect_outliers"
   ]
  },
  {
   "cell_type": "code",
   "execution_count": 2,
   "metadata": {
    "tags": []
   },
   "outputs": [],
   "source": [
    "# Load the dataset (Parquet format)\n",
    "df = pd.read_parquet('../charging_session_features.parquet')\n",
    "# df = pd.read_parquet('../results/latest_result_markus.parquet')\n"
   ]
  },
  {
   "cell_type": "code",
   "execution_count": 3,
   "metadata": {
    "tags": []
   },
   "outputs": [],
   "source": [
    "# Feature Engineering\n",
    "df['is_weekend'] = df['weekday'].apply(lambda x: 1 if x in [5, 6] else 0)  # Weekend feature"
   ]
  },
  {
   "cell_type": "code",
   "execution_count": 4,
   "metadata": {
    "tags": []
   },
   "outputs": [],
   "source": [
    "# User-based feature engineering\n",
    "df['trip_count_per_weekday'] = df.groupby('c_vin')['weekday'].transform('count')\n",
    "# df['avg_distance_per_dayofweek'] = df.groupby(['c_vin', 'weekday'])['distance'].transform('mean')"
   ]
  },
  {
   "cell_type": "code",
   "execution_count": 5,
   "metadata": {
    "tags": []
   },
   "outputs": [],
   "source": [
    "# Historical average features\n",
    "df['mean_consumption'] = df.groupby('c_vin')['soc_demand'].transform('mean')\n",
    "df['mean_duration'] = df.groupby('c_vin')['c_totalchargingdurationsec'].transform('mean')"
   ]
  },
  {
   "cell_type": "code",
   "execution_count": 7,
   "metadata": {
    "tags": []
   },
   "outputs": [],
   "source": [
    "# Save processed data as Parquet\n",
    "df.to_parquet('../results/processed_data.parquet', index=False)"
   ]
  },
  {
   "cell_type": "code",
   "execution_count": null,
   "metadata": {},
   "outputs": [],
   "source": [
    "# Remove outliers\n",
    "num_features = ['c_realstartsoc', 'weekday_numerical', 'mean_consumption',\n",
    "                'mean_duration', 'mean_dep_time', 'delta_soc_real',\n",
    "                'plugin_duration_hr']\n",
    "drop = detect_outliers(df, 0, ['delta_soc_real'])\n",
    "df = df.drop(drop, axis=0).reset_index(drop=True)\n",
    "print(f'After removing energy need(delta soc)outliers: {len(df)}')\n",
    "\n",
    "drop = detect_outliers(df, 0, ['plugin_duration_hr'])\n",
    "df = df.drop(drop, axis=0).reset_index(drop=True)\n",
    "print(f'After removing duration outliers: {len(df)}')\n",
    "\n",
    "df.to_parquet('results/removed_outliers.parquet')"
   ]
  }
 ],
 "metadata": {
  "kernelspec": {
   "display_name": "conda_pytorch_p310",
   "language": "python",
   "name": "conda_pytorch_p310"
  },
  "language_info": {
   "codemirror_mode": {
    "name": "ipython",
    "version": 3
   },
   "file_extension": ".py",
   "mimetype": "text/x-python",
   "name": "python",
   "nbconvert_exporter": "python",
   "pygments_lexer": "ipython3",
   "version": "3.10.14"
  }
 },
 "nbformat": 4,
 "nbformat_minor": 4
}
